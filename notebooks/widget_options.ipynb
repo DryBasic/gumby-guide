{
 "cells": [
  {
   "cell_type": "code",
   "execution_count": 46,
   "metadata": {},
   "outputs": [],
   "source": [
    "import pandas as pd\n",
    "import json\n",
    "\n",
    "df = pd.read_csv('../data/clean.csv')\n",
    "meta = pd.read_csv('../data/feature_metadata.csv')\n",
    "df.other_activities = [eval(i) if i==i else None for i in df.other_activities.values ]"
   ]
  },
  {
   "cell_type": "code",
   "execution_count": 69,
   "metadata": {},
   "outputs": [],
   "source": [
    "key2label = {k:v for k, v in meta[['DataFrameKey', 'Label']].values}\n",
    "\n",
    "sorted_years = ['.5 - 1 years',\n",
    " '0 - .5 years',\n",
    " '1 - 1.5 years',\n",
    " '1.5 - 2 years',\n",
    " '2 - 2.5 years',\n",
    " '2.5 - 3 years',\n",
    " '3 - 3.5 years',\n",
    " '3.5 - 4 years',\n",
    " '4 - 4.5 years',\n",
    " '4.5 - 5 years',\n",
    " '5 - 5.5 years',\n",
    " '5.5 - 6 years',\n",
    " '6 - 6.5 years',\n",
    " '6.5 - 7 years',\n",
    " '7 - 7.5 years',\n",
    " '7.5 - 8 years',\n",
    " '8 - 8.5 years',\n",
    " '8.5 - 9 years',\n",
    " '9 - 9.5 years',\n",
    " '9.5 - 10 years',\n",
    " '10 - 10.5 years',\n",
    " '10.5 - 11 years',\n",
    " '11 - 11.5 years',\n",
    " '11.5 - 12 years',\n",
    " '12 - 12.5 years',\n",
    " '12.5 - 13 years',\n",
    " '13 - 13.5 years',\n",
    " '13.5 - 14 years',\n",
    " '14 - 14.5 years',\n",
    " '14.5 - 15 years',\n",
    " 'More than 15 years']\n",
    "\n",
    "strength_metrics = [\n",
    "    'hardest_boulder_ever',\n",
    "    'hardest_boulder_confident',\n",
    "    'hardest_route_ever',\n",
    "    'hardest_route_confident',\n",
    "    'pullups_maxcount',\n",
    "    'pushups_maxcount'\n",
    "]\n",
    "\n",
    "widget_distincts = {\n",
    "    'other_activities': [i for i in pd.unique(df.other_activities.explode()) if i],\n",
    "    'years_climbing': sorted_years,\n",
    "    'hardest_boulder_confident': [f'V{i}' for i in range(15)],\n",
    "    'hardest_route_confident': [i for i in range(11, 34)],\n",
    "    'strength_metrics': [key2label[i] for i in strength_metrics],\n",
    "    'cid': list(df.cid.values)\n",
    "}\n",
    "\n",
    "continuous_features = [\n",
    "    'height',\n",
    "    'weight',\n",
    "    'wingspan',\n",
    "    'pullups_maxcount',\n",
    "    'pushups_maxcount',\n",
    "    'weekly_count_campus',\n",
    "    'weekly_hours_campus',\n",
    "    'weekly_count_endurance',\n",
    "    'weekly_count_strength',\n",
    "    'session_hours_strength'\n",
    "]"
   ]
  },
  {
   "cell_type": "code",
   "execution_count": 70,
   "metadata": {},
   "outputs": [],
   "source": [
    "with open('../data/widget_options.json', 'w') as f:\n",
    "    json.dump(widget_distincts, f)"
   ]
  },
  {
   "cell_type": "code",
   "execution_count": null,
   "metadata": {},
   "outputs": [],
   "source": []
  }
 ],
 "metadata": {
  "kernelspec": {
   "display_name": "Python 3",
   "language": "python",
   "name": "python3"
  },
  "language_info": {
   "codemirror_mode": {
    "name": "ipython",
    "version": 3
   },
   "file_extension": ".py",
   "mimetype": "text/x-python",
   "name": "python",
   "nbconvert_exporter": "python",
   "pygments_lexer": "ipython3",
   "version": "3.11.4"
  }
 },
 "nbformat": 4,
 "nbformat_minor": 2
}
